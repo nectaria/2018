{
 "cells": [
  {
   "cell_type": "code",
   "execution_count": 27,
   "metadata": {},
   "outputs": [],
   "source": [
    "## Assignment for MCA\n",
    "## 1.2\n",
    "\n",
    "import numpy as np"
   ]
  },
  {
   "cell_type": "code",
   "execution_count": 37,
   "metadata": {},
   "outputs": [],
   "source": [
    "# Question (a)\n",
    "# Random 3x2 matrix with the mean of each column subtracted\n",
    "data = np.random.rand(3,2)\n",
    "meand = d.mean(axis=0)\n",
    "d = data - meand\n",
    "#data = d - np.mean(d)"
   ]
  },
  {
   "cell_type": "code",
   "execution_count": 38,
   "metadata": {},
   "outputs": [],
   "source": [
    "# U = left singular vectors\n",
    "# V = Right singular vectors\n",
    "# L = Singular value matrix\n",
    "U, L, V = np.linalg.svd(d, full_matrices = True)"
   ]
  },
  {
   "cell_type": "code",
   "execution_count": 39,
   "metadata": {},
   "outputs": [
    {
     "data": {
      "text/plain": [
       "((3, 3), (2,), (2, 2))"
      ]
     },
     "execution_count": 39,
     "metadata": {},
     "output_type": "execute_result"
    }
   ],
   "source": [
    "U.shape, L.shape, V.shape"
   ]
  },
  {
   "cell_type": "code",
   "execution_count": 40,
   "metadata": {},
   "outputs": [],
   "source": [
    "## Reconstruction by multiplying U*L\n",
    "\n",
    "#np.allclose(d, np.dot(U[:, :2] * L, V))\n",
    "smat = np.zeros((3, 2))\n",
    "smat[:2, :2] = np.diag(L)\n",
    "#np.allclose(d, np.dot(U, np.dot(smat, V)))\n"
   ]
  },
  {
   "cell_type": "code",
   "execution_count": 41,
   "metadata": {},
   "outputs": [
    {
     "data": {
      "text/plain": [
       "array([[1.08661798, 0.        ],\n",
       "       [0.        , 0.4172579 ],\n",
       "       [0.        , 0.        ]])"
      ]
     },
     "execution_count": 41,
     "metadata": {},
     "output_type": "execute_result"
    }
   ],
   "source": [
    "smat"
   ]
  },
  {
   "cell_type": "code",
   "execution_count": 42,
   "metadata": {},
   "outputs": [
    {
     "data": {
      "text/plain": [
       "(array([[-0.44921916, -0.14369492],\n",
       "        [-0.47874156, -0.3064682 ],\n",
       "        [-0.8658795 ,  0.2439942 ]]), array([[-0.42071571, -0.21317687],\n",
       "        [-0.55604419, -0.11803007],\n",
       "        [-0.44507595, -0.78178506]]))"
      ]
     },
     "execution_count": 42,
     "metadata": {},
     "output_type": "execute_result"
    }
   ],
   "source": [
    "d_rec1 = np.dot(U, smat)\n",
    "d_rec1, d"
   ]
  },
  {
   "cell_type": "code",
   "execution_count": 43,
   "metadata": {},
   "outputs": [],
   "source": [
    "#data_rec = np.dot(d_rec1, V)"
   ]
  },
  {
   "cell_type": "code",
   "execution_count": 44,
   "metadata": {},
   "outputs": [],
   "source": [
    "#data_rec, d"
   ]
  },
  {
   "cell_type": "code",
   "execution_count": 45,
   "metadata": {},
   "outputs": [
    {
     "data": {
      "text/plain": [
       "(array([[0.22244608, 0.2590978 , 0.35390894],\n",
       "        [0.2590978 , 0.32311623, 0.33975604],\n",
       "        [0.35390894, 0.33975604, 0.80928048]]),\n",
       " array([[0.68427944, 0.50327052],\n",
       "        [0.50327052, 0.67056336]]))"
      ]
     },
     "execution_count": 45,
     "metadata": {},
     "output_type": "execute_result"
    }
   ],
   "source": [
    "# Question (b)\n",
    "\n",
    "# 3X3 covariance matrix\n",
    "\n",
    "d_dt = np.dot(d, np.transpose(d))\n",
    "\n",
    "# 2x2 covariance matrix\n",
    "\n",
    "dt_d = np.dot(np.transpose(d), d)\n",
    "\n",
    "d_dt, dt_d\n"
   ]
  },
  {
   "cell_type": "code",
   "execution_count": 46,
   "metadata": {},
   "outputs": [],
   "source": [
    "# Eigenvectors and eigenvalues of covariance matrix 3x3\n",
    "\n",
    "w1, v1 = np.linalg.eig(d_dt)"
   ]
  },
  {
   "cell_type": "code",
   "execution_count": 47,
   "metadata": {},
   "outputs": [
    {
     "data": {
      "text/plain": [
       "((3,), (3, 3))"
      ]
     },
     "execution_count": 47,
     "metadata": {},
     "output_type": "execute_result"
    }
   ],
   "source": [
    "w1.shape, v1.shape"
   ]
  },
  {
   "cell_type": "code",
   "execution_count": 48,
   "metadata": {},
   "outputs": [],
   "source": [
    "#w1_new = np.zeros((3, 3))\n",
    "#w1_new[:3, :3] = np.diag(w1)"
   ]
  },
  {
   "cell_type": "code",
   "execution_count": 49,
   "metadata": {},
   "outputs": [],
   "source": [
    "#w1_new.shape"
   ]
  },
  {
   "cell_type": "code",
   "execution_count": 50,
   "metadata": {},
   "outputs": [],
   "source": [
    "#w1_new"
   ]
  },
  {
   "cell_type": "code",
   "execution_count": 51,
   "metadata": {},
   "outputs": [
    {
     "data": {
      "text/plain": [
       "(array([[ 0.79589753,  0.45684856],\n",
       "        [ 0.22524797,  0.60720496],\n",
       "        [-0.00948253, -0.30521285]]), array([[-0.44921916, -0.14369492],\n",
       "        [-0.47874156, -0.3064682 ],\n",
       "        [-0.8658795 ,  0.2439942 ]]), array([[-0.42071571, -0.21317687],\n",
       "        [-0.55604419, -0.11803007],\n",
       "        [-0.44507595, -0.78178506]]))"
      ]
     },
     "execution_count": 51,
     "metadata": {},
     "output_type": "execute_result"
    }
   ],
   "source": [
    "# Reconstruct from covariance matrix 3x3\n",
    "#d_dt_rec1 = np.dot(v1, w1_new)\n",
    "d_rec2 = np.dot(v1, d)\n",
    "d_rec2, d_rec1, d"
   ]
  },
  {
   "cell_type": "code",
   "execution_count": 52,
   "metadata": {},
   "outputs": [
    {
     "data": {
      "text/plain": [
       "((2,), (2, 2))"
      ]
     },
     "execution_count": 52,
     "metadata": {},
     "output_type": "execute_result"
    }
   ],
   "source": [
    "#Eigenvectors and eigenvalues of covariance matrix 2x2\n",
    " \n",
    "w2, v2 = np.linalg.eig(dt_d)\n",
    "w2.shape, v2.shape\n",
    "#w2_new = np.zeros((2, 2))\n",
    "#w2_new[:2, :2] = np.diag(w2)\n",
    "#w2_new.shape, w2_new"
   ]
  },
  {
   "cell_type": "code",
   "execution_count": 53,
   "metadata": {},
   "outputs": [
    {
     "data": {
      "text/plain": [
       "(array([[-0.44921916,  0.14369492],\n",
       "        [-0.47874156,  0.3064682 ],\n",
       "        [-0.8658795 , -0.2439942 ]]), array([[ 0.79589753,  0.45684856],\n",
       "        [ 0.22524797,  0.60720496],\n",
       "        [-0.00948253, -0.30521285]]), array([[-0.44921916, -0.14369492],\n",
       "        [-0.47874156, -0.3064682 ],\n",
       "        [-0.8658795 ,  0.2439942 ]]), array([[-0.42071571, -0.21317687],\n",
       "        [-0.55604419, -0.11803007],\n",
       "        [-0.44507595, -0.78178506]]))"
      ]
     },
     "execution_count": 53,
     "metadata": {},
     "output_type": "execute_result"
    }
   ],
   "source": [
    "# Reconstruct from covariance matrci 2x2\n",
    "\n",
    "#dt_d_rec1 = np.dot(v2, w2_new)\n",
    "d_rec3 = np.dot(d, v2)\n",
    "d_rec3, d_rec2, d_rec1, d"
   ]
  },
  {
   "cell_type": "code",
   "execution_count": null,
   "metadata": {},
   "outputs": [],
   "source": []
  }
 ],
 "metadata": {
  "kernelspec": {
   "display_name": "Python 3",
   "language": "python",
   "name": "python3"
  },
  "language_info": {
   "codemirror_mode": {
    "name": "ipython",
    "version": 3
   },
   "file_extension": ".py",
   "mimetype": "text/x-python",
   "name": "python",
   "nbconvert_exporter": "python",
   "pygments_lexer": "ipython3",
   "version": "3.6.4"
  }
 },
 "nbformat": 4,
 "nbformat_minor": 2
}
